{
 "cells": [
  {
   "cell_type": "code",
   "execution_count": 1,
   "metadata": {},
   "outputs": [],
   "source": [
    "#unit impulse signal \n",
    "import numpy as np\n",
    "import matplotlib.pyplot as plt\n"
   ]
  },
  {
   "cell_type": "code",
   "execution_count": null,
   "metadata": {},
   "outputs": [],
   "source": [
    "def unit_impulse(length, position):\n",
    "    signal = np.zeros(length)\n",
    "    signal[position] = 1\n",
    "    return signal\n",
    "# Parameters\n",
    "start = -10  # Start value of the x-axis range\n",
    "stop = 10  # Stop value of the x-axis range\n",
    "step = 1  # Step size\n",
    "\n",
    "# Generate x-axis values\n",
    "x = np.arange(start, stop+step, step)\n",
    "\n",
    "# Generate unit impulse signal\n",
    "impulse_signal = unit_impulse(len(x), abs(start)//step)\n",
    "\n",
    "# Plot the signal\n",
    "plt.stem(x, impulse_signal)\n",
    "plt.xlabel('Time')\n",
    "plt.ylabel('Amplitude')\n",
    "plt.title('Unit Impulse Signal')\n",
    "plt.grid(True)\n",
    "plt.show()\n"
   ]
  }
 ],
 "metadata": {
  "kernelspec": {
   "display_name": "Python 3",
   "language": "python",
   "name": "python3"
  },
  "language_info": {
   "codemirror_mode": {
    "name": "ipython",
    "version": 3
   },
   "file_extension": ".py",
   "mimetype": "text/x-python",
   "name": "python",
   "nbconvert_exporter": "python",
   "pygments_lexer": "ipython3",
   "version": "3.11.9"
  }
 },
 "nbformat": 4,
 "nbformat_minor": 2
}
