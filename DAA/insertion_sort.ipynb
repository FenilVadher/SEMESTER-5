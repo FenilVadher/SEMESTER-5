{
 "cells": [
  {
   "cell_type": "code",
   "execution_count": 1,
   "metadata": {},
   "outputs": [
    {
     "name": "stdout",
     "output_type": "stream",
     "text": [
      "[5, 6, 11, 12, 13]\n"
     ]
    }
   ],
   "source": [
    "def insertionSort(arr):\n",
    "\tn = len(arr) # Get the length of the array\n",
    "\t\n",
    "\tif n <= 1:\n",
    "\t\treturn # If the array has 0 or 1 element, it is already sorted, so return\n",
    "\n",
    "\tfor i in range(1, n): # Iterate over the array starting from the second element\n",
    "\t\tkey = arr[i] # Store the current element as the key to be inserted in the right position\n",
    "\t\tj = i-1\n",
    "\t\twhile j >= 0 and key < arr[j]: # Move elements greater than key one position ahead\n",
    "\t\t\tarr[j+1] = arr[j] # Shift elements to the right\n",
    "\t\t\tj -= 1\n",
    "\t\tarr[j+1] = key # Insert the key in the correct position\n",
    "\n",
    "# Sorting the array [12, 11, 13, 5, 6] using insertionSort\n",
    "arr = [12, 11, 13, 5, 6]\n",
    "insertionSort(arr)\n",
    "print(arr)\n"
   ]
  }
 ],
 "metadata": {
  "kernelspec": {
   "display_name": "Python 3",
   "language": "python",
   "name": "python3"
  },
  "language_info": {
   "codemirror_mode": {
    "name": "ipython",
    "version": 3
   },
   "file_extension": ".py",
   "mimetype": "text/x-python",
   "name": "python",
   "nbconvert_exporter": "python",
   "pygments_lexer": "ipython3",
   "version": "3.11.9"
  }
 },
 "nbformat": 4,
 "nbformat_minor": 2
}
