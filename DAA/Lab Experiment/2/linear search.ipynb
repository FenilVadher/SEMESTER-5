{
 "cells": [
  {
   "cell_type": "code",
   "execution_count": 6,
   "metadata": {},
   "outputs": [
    {
     "name": "stdout",
     "output_type": "stream",
     "text": [
      "Element is present at index 3\n"
     ]
    }
   ],
   "source": [
    "def search(arr, N, x):\n",
    "\n",
    "    \n",
    "    for i in range(0, N):\n",
    "        if (arr[i] == x):\n",
    "            return i\n",
    "    return -1\n",
    "\n",
    "if __name__ == \"__main__\":\n",
    "    arr = [2, 3, 4, 10, 40]\n",
    "    x = 10\n",
    "    N = len(arr)\n",
    "\n",
    "    result = search(arr, N, x)\n",
    "    if(result == -1):\n",
    "        print(\"Element is not present in array\")\n",
    "    else:\n",
    "        print(\"Element is present at index\", result)"
   ]
  }
 ],
 "metadata": {
  "kernelspec": {
   "display_name": "Python 3",
   "language": "python",
   "name": "python3"
  },
  "language_info": {
   "codemirror_mode": {
    "name": "ipython",
    "version": 3
   },
   "file_extension": ".py",
   "mimetype": "text/x-python",
   "name": "python",
   "nbconvert_exporter": "python",
   "pygments_lexer": "ipython3",
   "version": "3.11.9"
  }
 },
 "nbformat": 4,
 "nbformat_minor": 2
}
