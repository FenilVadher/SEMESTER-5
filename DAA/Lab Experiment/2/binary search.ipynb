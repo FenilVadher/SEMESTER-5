{
 "cells": [
  {
   "cell_type": "code",
   "execution_count": 1,
   "metadata": {},
   "outputs": [
    {
     "name": "stdout",
     "output_type": "stream",
     "text": [
      "Element is present at index 4\n"
     ]
    }
   ],
   "source": [
    "def binarysearch(arr,key,l,r):\n",
    "    if(l<=r):\n",
    "\n",
    "        mid=int((l+r)/2)\n",
    "        if(arr[mid]==key):\n",
    "            return mid\n",
    "        elif(arr[mid]<key):\n",
    "            return (binarysearch(arr,key,mid+1,r))\n",
    "        else: \n",
    "            return (binarysearch(arr,key,l,mid-1))\n",
    "    else:\n",
    "        return -1\n",
    "    \n",
    "arr = [1,5,7,8,22,33,37]\n",
    "key = 22\n",
    "l=0\n",
    "r=len(arr)-1\n",
    "index = binarysearch(arr,key,l,r)\n",
    "\n",
    "if index != -1:\n",
    "        print(\"Element is present at index\", index)\n",
    "else:\n",
    "        print(\"Element is not present in array\")"
   ]
  }
 ],
 "metadata": {
  "kernelspec": {
   "display_name": "Python 3",
   "language": "python",
   "name": "python3"
  },
  "language_info": {
   "codemirror_mode": {
    "name": "ipython",
    "version": 3
   },
   "file_extension": ".py",
   "mimetype": "text/x-python",
   "name": "python",
   "nbconvert_exporter": "python",
   "pygments_lexer": "ipython3",
   "version": "3.11.9"
  }
 },
 "nbformat": 4,
 "nbformat_minor": 2
}
