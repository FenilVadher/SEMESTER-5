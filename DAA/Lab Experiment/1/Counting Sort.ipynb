{
 "cells": [
  {
   "cell_type": "code",
   "execution_count": 4,
   "metadata": {},
   "outputs": [
    {
     "name": "stdout",
     "output_type": "stream",
     "text": [
      "1 3 3 4 5 5 9 12 "
     ]
    }
   ],
   "source": [
    "def count_sort(input_array):\n",
    "\t# Finding the maximum element of input_array.\n",
    "\tM = max(input_array)\n",
    "\n",
    "\tcount_array = [0] * (M + 1)\n",
    "\n",
    "\tfor num in input_array:\n",
    "\t\tcount_array[num] += 1\n",
    "\n",
    "\tfor i in range(1, M + 1):\n",
    "\t\tcount_array[i] += count_array[i - 1]\n",
    "\n",
    "\toutput_array = [0] * len(input_array)\n",
    "\n",
    "\tfor i in range(len(input_array) - 1, -1, -1):\n",
    "\t\toutput_array[count_array[input_array[i]] - 1] = input_array[i]\n",
    "\t\tcount_array[input_array[i]] -= 1\n",
    "\n",
    "\treturn output_array\n",
    "\n",
    "if __name__ == \"__main__\":\n",
    "\t# Input array\n",
    "\tinput_array = [4, 3, 12, 1, 5, 5, 3, 9]\n",
    "\toutput_array = count_sort(input_array)\n",
    "\n",
    "\tfor num in output_array:\n",
    "\t\tprint(num, end=\" \")\n"
   ]
  }
 ],
 "metadata": {
  "kernelspec": {
   "display_name": "Python 3",
   "language": "python",
   "name": "python3"
  },
  "language_info": {
   "codemirror_mode": {
    "name": "ipython",
    "version": 3
   },
   "file_extension": ".py",
   "mimetype": "text/x-python",
   "name": "python",
   "nbconvert_exporter": "python",
   "pygments_lexer": "ipython3",
   "version": "3.11.9"
  }
 },
 "nbformat": 4,
 "nbformat_minor": 2
}
