{
 "cells": [
  {
   "cell_type": "code",
   "execution_count": 2,
   "metadata": {},
   "outputs": [
    {
     "name": "stdout",
     "output_type": "stream",
     "text": [
      "Sorted array: [1, 5, 23, 34, 37, 38, 41, 43]\n"
     ]
    }
   ],
   "source": [
    "def insertionSort(arr):\n",
    "    n = len(arr)  \n",
    "\n",
    "    if n <= 1:\n",
    "        return  \n",
    "\n",
    "    for i in range(1, n):  \n",
    "        # Move elements of arr[0..i-1], that are\n",
    "        # greater than key, to one position ahead\n",
    "        # of their current position\n",
    "        key = arr[i]  \n",
    "        j = i - 1\n",
    "        while j >= 0 and key < arr[j]:  \n",
    "            arr[j + 1] = arr[j]  \n",
    "            j -= 1\n",
    "        arr[j + 1] = key  \n",
    "\n",
    "# User input for the array\n",
    "arr = list(map(int, input(\"Enter the elements of the array separated by spaces: \").split()))\n",
    "insertionSort(arr)\n",
    "print(\"Sorted array:\", arr)\n"
   ]
  }
 ],
 "metadata": {
  "kernelspec": {
   "display_name": "Python 3",
   "language": "python",
   "name": "python3"
  },
  "language_info": {
   "codemirror_mode": {
    "name": "ipython",
    "version": 3
   },
   "file_extension": ".py",
   "mimetype": "text/x-python",
   "name": "python",
   "nbconvert_exporter": "python",
   "pygments_lexer": "ipython3",
   "version": "3.11.9"
  }
 },
 "nbformat": 4,
 "nbformat_minor": 2
}
