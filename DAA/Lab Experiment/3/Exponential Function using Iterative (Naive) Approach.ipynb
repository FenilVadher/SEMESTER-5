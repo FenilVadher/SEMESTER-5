{
 "cells": [
  {
   "cell_type": "code",
   "execution_count": 1,
   "metadata": {},
   "outputs": [
    {
     "name": "stdout",
     "output_type": "stream",
     "text": [
      "64\n"
     ]
    }
   ],
   "source": [
    "def power(x,y):\n",
    "    mul=1\n",
    "    for i in range(y):\n",
    "        mul=mul*x\n",
    "    print(mul)\n",
    "\n",
    "x=2\n",
    "y=6\n",
    "power(x,y)\n",
    "\n",
    "#worst case complexity:O(N)\n",
    "#Best case complexity : O(1)\n",
    "#Space complexity : O(1)"
   ]
  }
 ],
 "metadata": {
  "kernelspec": {
   "display_name": "Python 3",
   "language": "python",
   "name": "python3"
  },
  "language_info": {
   "codemirror_mode": {
    "name": "ipython",
    "version": 3
   },
   "file_extension": ".py",
   "mimetype": "text/x-python",
   "name": "python",
   "nbconvert_exporter": "python",
   "pygments_lexer": "ipython3",
   "version": "3.11.9"
  }
 },
 "nbformat": 4,
 "nbformat_minor": 2
}
