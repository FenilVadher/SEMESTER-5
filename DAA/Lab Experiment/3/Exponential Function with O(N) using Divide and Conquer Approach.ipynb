{
 "cells": [
  {
   "cell_type": "code",
   "execution_count": 2,
   "metadata": {},
   "outputs": [
    {
     "name": "stdout",
     "output_type": "stream",
     "text": [
      "128\n"
     ]
    }
   ],
   "source": [
    "def power(x,y):\n",
    "    if(y==0):\n",
    "        return 1\n",
    "    elif(y%2==0):\n",
    "        return (power(x,int(y/2))*power(x,int(y/2)))\n",
    "    else:\n",
    "        return (x*power(x,int(y/2))*power(x,int(y/2)))\n",
    "    \n",
    "x=2\n",
    "y=7\n",
    "print(power(x,y))\n",
    "\n",
    "#worst case : O(N)\n",
    "#best case : O(1)\n",
    "#space : O(N)"
   ]
  }
 ],
 "metadata": {
  "kernelspec": {
   "display_name": "Python 3",
   "language": "python",
   "name": "python3"
  },
  "language_info": {
   "codemirror_mode": {
    "name": "ipython",
    "version": 3
   },
   "file_extension": ".py",
   "mimetype": "text/x-python",
   "name": "python",
   "nbconvert_exporter": "python",
   "pygments_lexer": "ipython3",
   "version": "3.11.9"
  }
 },
 "nbformat": 4,
 "nbformat_minor": 2
}
