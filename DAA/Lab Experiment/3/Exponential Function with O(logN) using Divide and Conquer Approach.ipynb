{
 "cells": [
  {
   "cell_type": "code",
   "execution_count": 1,
   "metadata": {},
   "outputs": [
    {
     "name": "stdout",
     "output_type": "stream",
     "text": [
      "256\n"
     ]
    }
   ],
   "source": [
    "def power(x,y):\n",
    "    if(y==0):\n",
    "        return 1\n",
    "    temp = power(x,int(y/2))\n",
    "    if(y%2==0):\n",
    "        return (temp*temp)\n",
    "    else:\n",
    "        return (x*temp*temp)\n",
    "    \n",
    "x=2\n",
    "y=8\n",
    "print(power(x,y))\n",
    "\n",
    "#worst case : O(N)\n",
    "#best case : O(1)\n",
    "#space : O(N)"
   ]
  }
 ],
 "metadata": {
  "kernelspec": {
   "display_name": "Python 3",
   "language": "python",
   "name": "python3"
  },
  "language_info": {
   "codemirror_mode": {
    "name": "ipython",
    "version": 3
   },
   "file_extension": ".py",
   "mimetype": "text/x-python",
   "name": "python",
   "nbconvert_exporter": "python",
   "pygments_lexer": "ipython3",
   "version": "3.11.9"
  }
 },
 "nbformat": 4,
 "nbformat_minor": 2
}
